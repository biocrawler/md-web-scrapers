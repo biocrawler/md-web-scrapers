{
 "cells": [
  {
   "cell_type": "markdown",
   "metadata": {},
   "source": [
    "# Filter data based on keywords"
   ]
  },
  {
   "cell_type": "markdown",
   "metadata": {},
   "source": [
    "## Introduction\n",
    "The aim of this notebook is to read a set of keywords and a set of scraped data and filter out all non-Covid-19 related entries/rows."
   ]
  },
  {
   "cell_type": "markdown",
   "metadata": {},
   "source": [
    "## Import libraries and set up defaults"
   ]
  },
  {
   "cell_type": "code",
   "execution_count": 1,
   "metadata": {},
   "outputs": [],
   "source": [
    "import numpy as np\n",
    "import pandas as pd\n",
    "import matplotlib.pyplot as plt\n",
    "import seaborn as sns\n",
    "%matplotlib inline\n",
    "#%xmode Verbose\n",
    "# Set global default figure size\n",
    "plt.rc('figure', figsize=(20, 12)) # It's nice with figures that fill the whole space in width\n",
    "# Show maximum of 8 rows when printing dataframes\n",
    "PREVIOUS_MAX_ROWS = pd.options.display.max_rows\n",
    "pd.options.display.max_rows = 8\n",
    "# Show only 4 digits when printing floating point number\n",
    "np.set_printoptions(precision=4, suppress=True)"
   ]
  },
  {
   "cell_type": "markdown",
   "metadata": {},
   "source": [
    "## Two sets of keywords"
   ]
  },
  {
   "cell_type": "markdown",
   "metadata": {},
   "source": [
    "### Key words from [Zhang Lab](https://zhanglab.ccmb.med.umich.edu/COVID-19/) "
   ]
  },
  {
   "cell_type": "markdown",
   "metadata": {},
   "source": [
    "#### Read in the keywords"
   ]
  },
  {
   "cell_type": "code",
   "execution_count": 2,
   "metadata": {},
   "outputs": [
    {
     "data": {
      "text/html": [
       "<div>\n",
       "<style scoped>\n",
       "    .dataframe tbody tr th:only-of-type {\n",
       "        vertical-align: middle;\n",
       "    }\n",
       "\n",
       "    .dataframe tbody tr th {\n",
       "        vertical-align: top;\n",
       "    }\n",
       "\n",
       "    .dataframe thead th {\n",
       "        text-align: right;\n",
       "    }\n",
       "</style>\n",
       "<table border=\"1\" class=\"dataframe\">\n",
       "  <thead>\n",
       "    <tr style=\"text-align: right;\">\n",
       "      <th></th>\n",
       "      <th>ORF</th>\n",
       "      <th>Gene</th>\n",
       "      <th>Gene2</th>\n",
       "      <th>Full_Name</th>\n",
       "    </tr>\n",
       "  </thead>\n",
       "  <tbody>\n",
       "    <tr>\n",
       "      <th>0</th>\n",
       "      <td>ORF1AB</td>\n",
       "      <td>nsp1</td>\n",
       "      <td>NaN</td>\n",
       "      <td>Host translation inhibitor nsp1</td>\n",
       "    </tr>\n",
       "    <tr>\n",
       "      <th>1</th>\n",
       "      <td>ORF1AB</td>\n",
       "      <td>nsp2</td>\n",
       "      <td>NaN</td>\n",
       "      <td>Non-structural protein 2</td>\n",
       "    </tr>\n",
       "    <tr>\n",
       "      <th>2</th>\n",
       "      <td>ORF1AB</td>\n",
       "      <td>nps3</td>\n",
       "      <td>NaN</td>\n",
       "      <td>Papain-like proteinase</td>\n",
       "    </tr>\n",
       "    <tr>\n",
       "      <th>3</th>\n",
       "      <td>ORF1AB</td>\n",
       "      <td>nps4</td>\n",
       "      <td>NaN</td>\n",
       "      <td>Non-structural protein 4</td>\n",
       "    </tr>\n",
       "    <tr>\n",
       "      <th>...</th>\n",
       "      <td>...</td>\n",
       "      <td>...</td>\n",
       "      <td>...</td>\n",
       "      <td>...</td>\n",
       "    </tr>\n",
       "    <tr>\n",
       "      <th>20</th>\n",
       "      <td>ORF7A</td>\n",
       "      <td>NaN</td>\n",
       "      <td>NaN</td>\n",
       "      <td>Protein 7a</td>\n",
       "    </tr>\n",
       "    <tr>\n",
       "      <th>21</th>\n",
       "      <td>ORF8</td>\n",
       "      <td>NaN</td>\n",
       "      <td>NaN</td>\n",
       "      <td>Protein 8</td>\n",
       "    </tr>\n",
       "    <tr>\n",
       "      <th>22</th>\n",
       "      <td>N</td>\n",
       "      <td>NaN</td>\n",
       "      <td>NaN</td>\n",
       "      <td>Nucleoprotein</td>\n",
       "    </tr>\n",
       "    <tr>\n",
       "      <th>23</th>\n",
       "      <td>ORF10</td>\n",
       "      <td>NaN</td>\n",
       "      <td>NaN</td>\n",
       "      <td>3` UTR</td>\n",
       "    </tr>\n",
       "  </tbody>\n",
       "</table>\n",
       "<p>24 rows × 4 columns</p>\n",
       "</div>"
      ],
      "text/plain": [
       "       ORF  Gene Gene2                        Full_Name\n",
       "0   ORF1AB  nsp1   NaN  Host translation inhibitor nsp1\n",
       "1   ORF1AB  nsp2   NaN         Non-structural protein 2\n",
       "2   ORF1AB  nps3   NaN           Papain-like proteinase\n",
       "3   ORF1AB  nps4   NaN         Non-structural protein 4\n",
       "..     ...   ...   ...                              ...\n",
       "20   ORF7A   NaN   NaN                       Protein 7a\n",
       "21    ORF8   NaN   NaN                        Protein 8\n",
       "22       N   NaN   NaN                    Nucleoprotein\n",
       "23   ORF10   NaN   NaN                           3` UTR\n",
       "\n",
       "[24 rows x 4 columns]"
      ]
     },
     "execution_count": 2,
     "metadata": {},
     "output_type": "execute_result"
    }
   ],
   "source": [
    "path = \"/data/01_raw/Covid-19_keywords/\"\n",
    "key_words_df = pd.read_csv(path + \"SARS-COV-2_Protein_Names.tsv\",\n",
    "                           sep = '\\t',\n",
    "                           header = 0,\n",
    "                           usecols = ['ORF','Gene','Gene2','Full_Name'] # Dropping: 'Function', Source and a url\n",
    "                          )\n",
    "key_words_df"
   ]
  },
  {
   "cell_type": "markdown",
   "metadata": {},
   "source": [
    "#### Create a unique Python list of keywords"
   ]
  },
  {
   "cell_type": "code",
   "execution_count": 3,
   "metadata": {},
   "outputs": [
    {
     "name": "stdout",
     "output_type": "stream",
     "text": [
      "['ORF1AB', 'S', 'ORF3A', 'E', 'M', 'ORF6', 'ORF7A', 'ORF8', 'N', 'ORF10', 'nsp1', 'nsp2', 'nps3', 'nps4', 'nsp5', 'nsp6', 'nsp7', 'nsp8', 'nsp9', 'nsp10', 'RDRP', 'Hel', 'Exon', 'NendoU', \"2'-O-MT\", 'Spike', '3CL-PRO', 'Spike trimeric complex (S1, S2, S`)', 'Host translation inhibitor nsp1', 'Non-structural protein 2', 'Papain-like proteinase', 'Non-structural protein 4', '3C-like proteinase', 'Non-structural protein 6', 'Non-structural protein 7', 'Non-structural protein 8', 'Non-structural protein 9', 'Non-structural protein 10', 'RNA-Directed RNA Polymerase', 'Helicase', 'Proofreading exoribonuclease (Guanine-N7 methyltransferase)', 'Uridylate-specific endoribonuclease', \"2'-O-methyltransferase\", 'Spike surface glycoprotein (monomer)', 'Protein 3a', 'Envelope small membrane proteins', 'Membrane protein', 'Protein 6', 'Protein 7a', 'Protein 8', 'Nucleoprotein', '3` UTR']\n"
     ]
    }
   ],
   "source": [
    "first_term = (key_words_df['ORF']\n",
    "              .dropna() # Drop np.nan:s\n",
    "              .unique() # Filter all non-unique values\n",
    "              .tolist() # Make a python list\n",
    "             ) + \\\n",
    "key_words_df['Gene'].dropna().unique().tolist() + \\\n",
    "key_words_df['Gene2'].dropna().unique().tolist() + \\\n",
    "key_words_df['Full_Name'].dropna().unique().tolist()\n",
    "print(first_term)"
   ]
  },
  {
   "cell_type": "markdown",
   "metadata": {},
   "source": [
    "### Key words for filtering scraped data from [Mendeley Database](https://data.mendeley.com/)"
   ]
  },
  {
   "cell_type": "code",
   "execution_count": 30,
   "metadata": {},
   "outputs": [],
   "source": [
    "first_term = [\"sars-cov-2\", \n",
    "              \"sars-cov2\", \n",
    "              \"covid19\", \n",
    "              \"covid-19\", \n",
    "              \"sars\", \n",
    "              \"coronavirus\", \n",
    "              \"ncov2019\", \n",
    "              \"ncov-2019\",\n",
    "              \"nCov2019\",\n",
    "              \"nCov-2019\", \n",
    "              \"COVID2019\"]\n",
    "second_term = [\"molecular dynamics\", \n",
    "               \"trajectories\", \n",
    "               \"dynamics simulation\", \n",
    "               \"trajectory\", \n",
    "               \"molecular docking\"]"
   ]
  },
  {
   "cell_type": "markdown",
   "metadata": {},
   "source": [
    "## Read in Scraped data"
   ]
  },
  {
   "cell_type": "code",
   "execution_count": 17,
   "metadata": {},
   "outputs": [
    {
     "data": {
      "text/html": [
       "<div>\n",
       "<style scoped>\n",
       "    .dataframe tbody tr th:only-of-type {\n",
       "        vertical-align: middle;\n",
       "    }\n",
       "\n",
       "    .dataframe tbody tr th {\n",
       "        vertical-align: top;\n",
       "    }\n",
       "\n",
       "    .dataframe thead th {\n",
       "        text-align: right;\n",
       "    }\n",
       "</style>\n",
       "<table border=\"1\" class=\"dataframe\">\n",
       "  <thead>\n",
       "    <tr style=\"text-align: right;\">\n",
       "      <th></th>\n",
       "      <th>Title</th>\n",
       "      <th>Author</th>\n",
       "      <th>Categories</th>\n",
       "      <th>Keywords</th>\n",
       "      <th>Description</th>\n",
       "    </tr>\n",
       "  </thead>\n",
       "  <tbody>\n",
       "    <tr>\n",
       "      <th>0</th>\n",
       "      <td>GTT-1-protein-005.dcd</td>\n",
       "      <td>Kresten Lindorff-Larsen</td>\n",
       "      <td>['Structural Biology (incl. Macromolecular Mod...</td>\n",
       "      <td>['molecular dynamics']</td>\n",
       "      <td>Trajectories dataTrajectories of WW domain</td>\n",
       "    </tr>\n",
       "    <tr>\n",
       "      <th>1</th>\n",
       "      <td>GTT-1-protein-012.dcd</td>\n",
       "      <td>Kresten Lindorff-Larsen</td>\n",
       "      <td>['Structural Biology (incl. Macromolecular Mod...</td>\n",
       "      <td>['molecular dynamics']</td>\n",
       "      <td>Trajectories dataTrajectories of WW domain</td>\n",
       "    </tr>\n",
       "    <tr>\n",
       "      <th>2</th>\n",
       "      <td>GTT-1-protein-013.dcd</td>\n",
       "      <td>Kresten Lindorff-Larsen</td>\n",
       "      <td>['Structural Biology (incl. Macromolecular Mod...</td>\n",
       "      <td>['molecular dynamics']</td>\n",
       "      <td>Trajectories dataTrajectories of WW domain</td>\n",
       "    </tr>\n",
       "    <tr>\n",
       "      <th>3</th>\n",
       "      <td>GTT-1-protein-019.dcd</td>\n",
       "      <td>Kresten Lindorff-Larsen</td>\n",
       "      <td>['Structural Biology (incl. Macromolecular Mod...</td>\n",
       "      <td>['molecular dynamics']</td>\n",
       "      <td>Trajectories dataTrajectories of WW domain</td>\n",
       "    </tr>\n",
       "    <tr>\n",
       "      <th>...</th>\n",
       "      <td>...</td>\n",
       "      <td>...</td>\n",
       "      <td>...</td>\n",
       "      <td>...</td>\n",
       "      <td>...</td>\n",
       "    </tr>\n",
       "    <tr>\n",
       "      <th>36</th>\n",
       "      <td>GTT-1-protein-065.dcd</td>\n",
       "      <td>Kresten Lindorff-Larsen</td>\n",
       "      <td>['Structural Biology (incl. Macromolecular Mod...</td>\n",
       "      <td>['molecular dynamics']</td>\n",
       "      <td>Trajectories dataTrajectories of WW domain</td>\n",
       "    </tr>\n",
       "    <tr>\n",
       "      <th>37</th>\n",
       "      <td>GTT-1-protein-069.dcd</td>\n",
       "      <td>Kresten Lindorff-Larsen</td>\n",
       "      <td>['Structural Biology (incl. Macromolecular Mod...</td>\n",
       "      <td>['molecular dynamics']</td>\n",
       "      <td>Trajectories dataTrajectories of WW domain</td>\n",
       "    </tr>\n",
       "    <tr>\n",
       "      <th>38</th>\n",
       "      <td>GTT-1-protein-072.dcd</td>\n",
       "      <td>Kresten Lindorff-Larsen</td>\n",
       "      <td>['Structural Biology (incl. Macromolecular Mod...</td>\n",
       "      <td>['molecular dynamics']</td>\n",
       "      <td>Trajectories dataTrajectories of WW domain</td>\n",
       "    </tr>\n",
       "    <tr>\n",
       "      <th>39</th>\n",
       "      <td>GTT-1-protein-078.dcd</td>\n",
       "      <td>Kresten Lindorff-Larsen</td>\n",
       "      <td>['Structural Biology (incl. Macromolecular Mod...</td>\n",
       "      <td>['molecular dynamics']</td>\n",
       "      <td>Trajectories dataTrajectories of WW domain</td>\n",
       "    </tr>\n",
       "  </tbody>\n",
       "</table>\n",
       "<p>40 rows × 5 columns</p>\n",
       "</div>"
      ],
      "text/plain": [
       "                    Title                   Author  \\\n",
       "0   GTT-1-protein-005.dcd  Kresten Lindorff-Larsen   \n",
       "1   GTT-1-protein-012.dcd  Kresten Lindorff-Larsen   \n",
       "2   GTT-1-protein-013.dcd  Kresten Lindorff-Larsen   \n",
       "3   GTT-1-protein-019.dcd  Kresten Lindorff-Larsen   \n",
       "..                    ...                      ...   \n",
       "36  GTT-1-protein-065.dcd  Kresten Lindorff-Larsen   \n",
       "37  GTT-1-protein-069.dcd  Kresten Lindorff-Larsen   \n",
       "38  GTT-1-protein-072.dcd  Kresten Lindorff-Larsen   \n",
       "39  GTT-1-protein-078.dcd  Kresten Lindorff-Larsen   \n",
       "\n",
       "                                           Categories                Keywords  \\\n",
       "0   ['Structural Biology (incl. Macromolecular Mod...  ['molecular dynamics']   \n",
       "1   ['Structural Biology (incl. Macromolecular Mod...  ['molecular dynamics']   \n",
       "2   ['Structural Biology (incl. Macromolecular Mod...  ['molecular dynamics']   \n",
       "3   ['Structural Biology (incl. Macromolecular Mod...  ['molecular dynamics']   \n",
       "..                                                ...                     ...   \n",
       "36  ['Structural Biology (incl. Macromolecular Mod...  ['molecular dynamics']   \n",
       "37  ['Structural Biology (incl. Macromolecular Mod...  ['molecular dynamics']   \n",
       "38  ['Structural Biology (incl. Macromolecular Mod...  ['molecular dynamics']   \n",
       "39  ['Structural Biology (incl. Macromolecular Mod...  ['molecular dynamics']   \n",
       "\n",
       "                                   Description  \n",
       "0   Trajectories dataTrajectories of WW domain  \n",
       "1   Trajectories dataTrajectories of WW domain  \n",
       "2   Trajectories dataTrajectories of WW domain  \n",
       "3   Trajectories dataTrajectories of WW domain  \n",
       "..                                         ...  \n",
       "36  Trajectories dataTrajectories of WW domain  \n",
       "37  Trajectories dataTrajectories of WW domain  \n",
       "38  Trajectories dataTrajectories of WW domain  \n",
       "39  Trajectories dataTrajectories of WW domain  \n",
       "\n",
       "[40 rows x 5 columns]"
      ]
     },
     "execution_count": 17,
     "metadata": {},
     "output_type": "execute_result"
    }
   ],
   "source": [
    "sc_path = \"data/01_raw/Scraped/\"\n",
    "sc_data = pd.read_csv(sc_path + \"dcd_trayectories_figshare_data.csv\",\n",
    "                      sep = \",\",\n",
    "                      header = 0,\n",
    "                      index_col = 0\n",
    "                     )\n",
    "sc_data"
   ]
  },
  {
   "cell_type": "markdown",
   "metadata": {},
   "source": [
    "### Check that the data"
   ]
  },
  {
   "cell_type": "code",
   "execution_count": 18,
   "metadata": {},
   "outputs": [
    {
     "name": "stdout",
     "output_type": "stream",
     "text": [
      "<class 'pandas.core.frame.DataFrame'>\n",
      "Int64Index: 40 entries, 0 to 39\n",
      "Data columns (total 5 columns):\n",
      " #   Column       Non-Null Count  Dtype \n",
      "---  ------       --------------  ----- \n",
      " 0   Title        40 non-null     object\n",
      " 1   Author       40 non-null     object\n",
      " 2   Categories   40 non-null     object\n",
      " 3   Keywords     40 non-null     object\n",
      " 4   Description  40 non-null     object\n",
      "dtypes: object(5)\n",
      "memory usage: 1.9+ KB\n"
     ]
    }
   ],
   "source": [
    "sc_data.info()"
   ]
  },
  {
   "cell_type": "code",
   "execution_count": 19,
   "metadata": {},
   "outputs": [
    {
     "data": {
      "text/html": [
       "<div>\n",
       "<style scoped>\n",
       "    .dataframe tbody tr th:only-of-type {\n",
       "        vertical-align: middle;\n",
       "    }\n",
       "\n",
       "    .dataframe tbody tr th {\n",
       "        vertical-align: top;\n",
       "    }\n",
       "\n",
       "    .dataframe thead th {\n",
       "        text-align: right;\n",
       "    }\n",
       "</style>\n",
       "<table border=\"1\" class=\"dataframe\">\n",
       "  <thead>\n",
       "    <tr style=\"text-align: right;\">\n",
       "      <th></th>\n",
       "      <th>Title</th>\n",
       "      <th>Author</th>\n",
       "      <th>Categories</th>\n",
       "      <th>Keywords</th>\n",
       "      <th>Description</th>\n",
       "    </tr>\n",
       "  </thead>\n",
       "  <tbody>\n",
       "    <tr>\n",
       "      <th>count</th>\n",
       "      <td>40</td>\n",
       "      <td>40</td>\n",
       "      <td>40</td>\n",
       "      <td>40</td>\n",
       "      <td>40</td>\n",
       "    </tr>\n",
       "    <tr>\n",
       "      <th>unique</th>\n",
       "      <td>40</td>\n",
       "      <td>2</td>\n",
       "      <td>1</td>\n",
       "      <td>3</td>\n",
       "      <td>3</td>\n",
       "    </tr>\n",
       "    <tr>\n",
       "      <th>top</th>\n",
       "      <td>GTT-1-protein-001.dcd</td>\n",
       "      <td>Kresten Lindorff-Larsen</td>\n",
       "      <td>['Structural Biology (incl. Macromolecular Mod...</td>\n",
       "      <td>['molecular dynamics']</td>\n",
       "      <td>Trajectories dataTrajectories of WW domain</td>\n",
       "    </tr>\n",
       "    <tr>\n",
       "      <th>freq</th>\n",
       "      <td>1</td>\n",
       "      <td>39</td>\n",
       "      <td>40</td>\n",
       "      <td>38</td>\n",
       "      <td>38</td>\n",
       "    </tr>\n",
       "  </tbody>\n",
       "</table>\n",
       "</div>"
      ],
      "text/plain": [
       "                        Title                   Author  \\\n",
       "count                      40                       40   \n",
       "unique                     40                        2   \n",
       "top     GTT-1-protein-001.dcd  Kresten Lindorff-Larsen   \n",
       "freq                        1                       39   \n",
       "\n",
       "                                               Categories  \\\n",
       "count                                                  40   \n",
       "unique                                                  1   \n",
       "top     ['Structural Biology (incl. Macromolecular Mod...   \n",
       "freq                                                   40   \n",
       "\n",
       "                      Keywords                                 Description  \n",
       "count                       40                                          40  \n",
       "unique                       3                                           3  \n",
       "top     ['molecular dynamics']  Trajectories dataTrajectories of WW domain  \n",
       "freq                        38                                          38  "
      ]
     },
     "execution_count": 19,
     "metadata": {},
     "output_type": "execute_result"
    }
   ],
   "source": [
    "sc_data.describe()"
   ]
  },
  {
   "cell_type": "markdown",
   "metadata": {},
   "source": [
    "## Initialise a boolen pd.Series\n",
    "The purpose of pd.Series name `found` is to hold a boolen index rows with matches (if a certain keyword is found in the particular entry)."
   ]
  },
  {
   "cell_type": "code",
   "execution_count": 32,
   "metadata": {},
   "outputs": [],
   "source": [
    "falses = np.zeros(len(sc_data[\"Title\"]), dtype=bool) # https://stackoverflow.com/a/21174962\n",
    "found1 = pd.Series(data = falses,\n",
    "                   dtype = bool)\n",
    "found2 = pd.Series(data = falses,\n",
    "                   dtype = bool)"
   ]
  },
  {
   "cell_type": "markdown",
   "metadata": {},
   "source": [
    "## Find all indexes with a match"
   ]
  },
  {
   "cell_type": "markdown",
   "metadata": {},
   "source": [
    "### Find matches in the first column"
   ]
  },
  {
   "cell_type": "code",
   "execution_count": 33,
   "metadata": {},
   "outputs": [],
   "source": [
    "first_column_to_search_in = \"Keywords\"\n",
    "for word in first_term:\n",
    "    # Find out if the current search term can be found in the column\n",
    "    cur_match = sc_data[first_column_to_search_in].str.contains(word) # https://stackoverflow.com/a/15333283\n",
    "    # Join the found matches to one Series\n",
    "    found1 = found1 | cur_match"
   ]
  },
  {
   "cell_type": "code",
   "execution_count": 34,
   "metadata": {},
   "outputs": [
    {
     "data": {
      "text/plain": [
       "False    39\n",
       "True      1\n",
       "dtype: int64"
      ]
     },
     "execution_count": 34,
     "metadata": {},
     "output_type": "execute_result"
    }
   ],
   "source": [
    "found1.value_counts()"
   ]
  },
  {
   "cell_type": "markdown",
   "metadata": {},
   "source": [
    "### Find matches in the second column"
   ]
  },
  {
   "cell_type": "code",
   "execution_count": 25,
   "metadata": {},
   "outputs": [],
   "source": [
    "second_column_to_search_in = \"Description\"\n",
    "for word in second_term:\n",
    "    # Find out if the current search term can be found in the column\n",
    "    cur_match = sc_data[second_column_to_search_in].str.contains(word) # https://stackoverflow.com/a/15333283\n",
    "    # Join the found matches to one Series\n",
    "    found2 = found2 | cur_match"
   ]
  },
  {
   "cell_type": "code",
   "execution_count": 11,
   "metadata": {},
   "outputs": [
    {
     "data": {
      "text/plain": [
       "0    False\n",
       "1    False\n",
       "2     True\n",
       "3     True\n",
       "dtype: bool"
      ]
     },
     "execution_count": 11,
     "metadata": {},
     "output_type": "execute_result"
    }
   ],
   "source": [
    "found2"
   ]
  },
  {
   "cell_type": "markdown",
   "metadata": {},
   "source": [
    "### Join the matches from both columns"
   ]
  },
  {
   "cell_type": "code",
   "execution_count": 12,
   "metadata": {},
   "outputs": [
    {
     "data": {
      "text/plain": [
       "0    False\n",
       "1    False\n",
       "2    False\n",
       "3     True\n",
       "dtype: bool"
      ]
     },
     "execution_count": 12,
     "metadata": {},
     "output_type": "execute_result"
    }
   ],
   "source": [
    "joined = found1 & found2\n",
    "joined"
   ]
  },
  {
   "cell_type": "markdown",
   "metadata": {},
   "source": [
    "## Select only rows with matches in both columns"
   ]
  },
  {
   "cell_type": "markdown",
   "metadata": {},
   "source": [
    "### When searching only with the first term"
   ]
  },
  {
   "cell_type": "code",
   "execution_count": 35,
   "metadata": {},
   "outputs": [
    {
     "data": {
      "text/html": [
       "<div>\n",
       "<style scoped>\n",
       "    .dataframe tbody tr th:only-of-type {\n",
       "        vertical-align: middle;\n",
       "    }\n",
       "\n",
       "    .dataframe tbody tr th {\n",
       "        vertical-align: top;\n",
       "    }\n",
       "\n",
       "    .dataframe thead th {\n",
       "        text-align: right;\n",
       "    }\n",
       "</style>\n",
       "<table border=\"1\" class=\"dataframe\">\n",
       "  <thead>\n",
       "    <tr style=\"text-align: right;\">\n",
       "      <th></th>\n",
       "      <th>Title</th>\n",
       "      <th>Author</th>\n",
       "      <th>Categories</th>\n",
       "      <th>Keywords</th>\n",
       "      <th>Description</th>\n",
       "    </tr>\n",
       "  </thead>\n",
       "  <tbody>\n",
       "    <tr>\n",
       "      <th>21</th>\n",
       "      <td>1 microsecond simulation of nCoV protease 6LU7...</td>\n",
       "      <td>Lenin Dominguez-Ramirez</td>\n",
       "      <td>['Structural Biology (incl. Macromolecular Mod...</td>\n",
       "      <td>['nCov2019, nCov-2019, COVID2019, Drug Repurpo...</td>\n",
       "      <td>This protein was simulated without its cocryst...</td>\n",
       "    </tr>\n",
       "  </tbody>\n",
       "</table>\n",
       "</div>"
      ],
      "text/plain": [
       "                                                Title  \\\n",
       "21  1 microsecond simulation of nCoV protease 6LU7...   \n",
       "\n",
       "                     Author  \\\n",
       "21  Lenin Dominguez-Ramirez   \n",
       "\n",
       "                                           Categories  \\\n",
       "21  ['Structural Biology (incl. Macromolecular Mod...   \n",
       "\n",
       "                                             Keywords  \\\n",
       "21  ['nCov2019, nCov-2019, COVID2019, Drug Repurpo...   \n",
       "\n",
       "                                          Description  \n",
       "21  This protein was simulated without its cocryst...  "
      ]
     },
     "execution_count": 35,
     "metadata": {},
     "output_type": "execute_result"
    }
   ],
   "source": [
    "sc_data[found1]"
   ]
  },
  {
   "cell_type": "markdown",
   "metadata": {},
   "source": [
    "### When searching with two terms"
   ]
  },
  {
   "cell_type": "code",
   "execution_count": 13,
   "metadata": {},
   "outputs": [
    {
     "data": {
      "text/html": [
       "<div>\n",
       "<style scoped>\n",
       "    .dataframe tbody tr th:only-of-type {\n",
       "        vertical-align: middle;\n",
       "    }\n",
       "\n",
       "    .dataframe tbody tr th {\n",
       "        vertical-align: top;\n",
       "    }\n",
       "\n",
       "    .dataframe thead th {\n",
       "        text-align: right;\n",
       "    }\n",
       "</style>\n",
       "<table border=\"1\" class=\"dataframe\">\n",
       "  <thead>\n",
       "    <tr style=\"text-align: right;\">\n",
       "      <th></th>\n",
       "      <th>col_1</th>\n",
       "      <th>col_2</th>\n",
       "    </tr>\n",
       "  </thead>\n",
       "  <tbody>\n",
       "    <tr>\n",
       "      <th>3</th>\n",
       "      <td>sars-cov-2</td>\n",
       "      <td>molecular dynamics</td>\n",
       "    </tr>\n",
       "  </tbody>\n",
       "</table>\n",
       "</div>"
      ],
      "text/plain": [
       "        col_1               col_2\n",
       "3  sars-cov-2  molecular dynamics"
      ]
     },
     "execution_count": 13,
     "metadata": {},
     "output_type": "execute_result"
    }
   ],
   "source": [
    "sc_data[joined]"
   ]
  }
 ],
 "metadata": {
  "kernelspec": {
   "display_name": "Python 3",
   "language": "python",
   "name": "python3"
  },
  "language_info": {
   "codemirror_mode": {
    "name": "ipython",
    "version": 3
   },
   "file_extension": ".py",
   "mimetype": "text/x-python",
   "name": "python",
   "nbconvert_exporter": "python",
   "pygments_lexer": "ipython3",
   "version": "3.7.6"
  }
 },
 "nbformat": 4,
 "nbformat_minor": 4
}
