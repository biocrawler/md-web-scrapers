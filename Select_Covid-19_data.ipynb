{
 "cells": [
  {
   "cell_type": "markdown",
   "metadata": {},
   "source": [
    "# Filter data based on keywords"
   ]
  },
  {
   "cell_type": "markdown",
   "metadata": {},
   "source": [
    "## Introduction\n",
    "The aim of this notebook is to read a set of keywords and a set of scraped data and filter out all non-Covid-19 related entries/rows."
   ]
  },
  {
   "cell_type": "markdown",
   "metadata": {},
   "source": [
    "## Import libraries and set up defaults"
   ]
  },
  {
   "cell_type": "code",
   "execution_count": 1,
   "metadata": {},
   "outputs": [],
   "source": [
    "import numpy as np\n",
    "import pandas as pd\n",
    "import matplotlib.pyplot as plt\n",
    "import seaborn as sns\n",
    "%matplotlib inline\n",
    "#%xmode Verbose\n",
    "# Set global default figure size\n",
    "plt.rc('figure', figsize=(20, 12)) # It's nice with figures that fill the whole space in width\n",
    "# Show maximum of 8 rows when printing dataframes\n",
    "PREVIOUS_MAX_ROWS = pd.options.display.max_rows\n",
    "pd.options.display.max_rows = 8\n",
    "# Show only 4 digits when printing floating point number\n",
    "np.set_printoptions(precision=4, suppress=True)"
   ]
  },
  {
   "cell_type": "markdown",
   "metadata": {},
   "source": [
    "## Two sets of keywords"
   ]
  },
  {
   "cell_type": "markdown",
   "metadata": {},
   "source": [
    "### Key words from [Zhang Lab](https://zhanglab.ccmb.med.umich.edu/COVID-19/) "
   ]
  },
  {
   "cell_type": "markdown",
   "metadata": {},
   "source": [
    "#### Read in the keywords"
   ]
  },
  {
   "cell_type": "code",
   "execution_count": 2,
   "metadata": {},
   "outputs": [
    {
     "data": {
      "text/html": [
       "<div>\n",
       "<style scoped>\n",
       "    .dataframe tbody tr th:only-of-type {\n",
       "        vertical-align: middle;\n",
       "    }\n",
       "\n",
       "    .dataframe tbody tr th {\n",
       "        vertical-align: top;\n",
       "    }\n",
       "\n",
       "    .dataframe thead th {\n",
       "        text-align: right;\n",
       "    }\n",
       "</style>\n",
       "<table border=\"1\" class=\"dataframe\">\n",
       "  <thead>\n",
       "    <tr style=\"text-align: right;\">\n",
       "      <th></th>\n",
       "      <th>ORF</th>\n",
       "      <th>Gene</th>\n",
       "      <th>Gene2</th>\n",
       "      <th>Full_Name</th>\n",
       "    </tr>\n",
       "  </thead>\n",
       "  <tbody>\n",
       "    <tr>\n",
       "      <th>0</th>\n",
       "      <td>ORF1AB</td>\n",
       "      <td>nsp1</td>\n",
       "      <td>NaN</td>\n",
       "      <td>Host translation inhibitor nsp1</td>\n",
       "    </tr>\n",
       "    <tr>\n",
       "      <th>1</th>\n",
       "      <td>ORF1AB</td>\n",
       "      <td>nsp2</td>\n",
       "      <td>NaN</td>\n",
       "      <td>Non-structural protein 2</td>\n",
       "    </tr>\n",
       "    <tr>\n",
       "      <th>2</th>\n",
       "      <td>ORF1AB</td>\n",
       "      <td>nps3</td>\n",
       "      <td>NaN</td>\n",
       "      <td>Papain-like proteinase</td>\n",
       "    </tr>\n",
       "    <tr>\n",
       "      <th>3</th>\n",
       "      <td>ORF1AB</td>\n",
       "      <td>nps4</td>\n",
       "      <td>NaN</td>\n",
       "      <td>Non-structural protein 4</td>\n",
       "    </tr>\n",
       "    <tr>\n",
       "      <th>...</th>\n",
       "      <td>...</td>\n",
       "      <td>...</td>\n",
       "      <td>...</td>\n",
       "      <td>...</td>\n",
       "    </tr>\n",
       "    <tr>\n",
       "      <th>20</th>\n",
       "      <td>ORF7A</td>\n",
       "      <td>NaN</td>\n",
       "      <td>NaN</td>\n",
       "      <td>Protein 7a</td>\n",
       "    </tr>\n",
       "    <tr>\n",
       "      <th>21</th>\n",
       "      <td>ORF8</td>\n",
       "      <td>NaN</td>\n",
       "      <td>NaN</td>\n",
       "      <td>Protein 8</td>\n",
       "    </tr>\n",
       "    <tr>\n",
       "      <th>22</th>\n",
       "      <td>N</td>\n",
       "      <td>NaN</td>\n",
       "      <td>NaN</td>\n",
       "      <td>Nucleoprotein</td>\n",
       "    </tr>\n",
       "    <tr>\n",
       "      <th>23</th>\n",
       "      <td>ORF10</td>\n",
       "      <td>NaN</td>\n",
       "      <td>NaN</td>\n",
       "      <td>3` UTR</td>\n",
       "    </tr>\n",
       "  </tbody>\n",
       "</table>\n",
       "<p>24 rows × 4 columns</p>\n",
       "</div>"
      ],
      "text/plain": [
       "       ORF  Gene Gene2                        Full_Name\n",
       "0   ORF1AB  nsp1   NaN  Host translation inhibitor nsp1\n",
       "1   ORF1AB  nsp2   NaN         Non-structural protein 2\n",
       "2   ORF1AB  nps3   NaN           Papain-like proteinase\n",
       "3   ORF1AB  nps4   NaN         Non-structural protein 4\n",
       "..     ...   ...   ...                              ...\n",
       "20   ORF7A   NaN   NaN                       Protein 7a\n",
       "21    ORF8   NaN   NaN                        Protein 8\n",
       "22       N   NaN   NaN                    Nucleoprotein\n",
       "23   ORF10   NaN   NaN                           3` UTR\n",
       "\n",
       "[24 rows x 4 columns]"
      ]
     },
     "execution_count": 2,
     "metadata": {},
     "output_type": "execute_result"
    }
   ],
   "source": [
    "path = \"/data/01_raw/Covid-19_keywords/\"\n",
    "key_words_df = pd.read_csv(path + \"SARS-COV-2_Protein_Names.tsv\",\n",
    "                           sep = '\\t',\n",
    "                           header = 0,\n",
    "                           usecols = ['ORF','Gene','Gene2','Full_Name'] # Dropping: 'Function', Source and a url\n",
    "                          )\n",
    "key_words_df"
   ]
  },
  {
   "cell_type": "markdown",
   "metadata": {},
   "source": [
    "#### Create a unique Python list of keywords"
   ]
  },
  {
   "cell_type": "markdown",
   "metadata": {},
   "source": [
    "### Key words from [Zhang Lab](https://zhanglab.ccmb.med.umich.edu/COVID-19/) "
   ]
  },
  {
   "cell_type": "code",
   "execution_count": 3,
   "metadata": {},
   "outputs": [
    {
     "name": "stdout",
     "output_type": "stream",
     "text": [
      "['ORF1AB', 'S', 'ORF3A', 'E', 'M', 'ORF6', 'ORF7A', 'ORF8', 'N', 'ORF10', 'nsp1', 'nsp2', 'nps3', 'nps4', 'nsp5', 'nsp6', 'nsp7', 'nsp8', 'nsp9', 'nsp10', 'RDRP', 'Hel', 'Exon', 'NendoU', \"2'-O-MT\", 'Spike', '3CL-PRO', 'Spike trimeric complex (S1, S2, S`)', 'Host translation inhibitor nsp1', 'Non-structural protein 2', 'Papain-like proteinase', 'Non-structural protein 4', '3C-like proteinase', 'Non-structural protein 6', 'Non-structural protein 7', 'Non-structural protein 8', 'Non-structural protein 9', 'Non-structural protein 10', 'RNA-Directed RNA Polymerase', 'Helicase', 'Proofreading exoribonuclease (Guanine-N7 methyltransferase)', 'Uridylate-specific endoribonuclease', \"2'-O-methyltransferase\", 'Spike surface glycoprotein (monomer)', 'Protein 3a', 'Envelope small membrane proteins', 'Membrane protein', 'Protein 6', 'Protein 7a', 'Protein 8', 'Nucleoprotein', '3` UTR']\n"
     ]
    }
   ],
   "source": [
    "first_term = (key_words_df['ORF']\n",
    "              .dropna() # Drop np.nan:s\n",
    "              .unique() # Filter all non-unique values\n",
    "              .tolist() # Make a python list\n",
    "             ) + \\\n",
    "key_words_df['Gene'].dropna().unique().tolist() + \\\n",
    "key_words_df['Gene2'].dropna().unique().tolist() + \\\n",
    "key_words_df['Full_Name'].dropna().unique().tolist()\n",
    "print(first_term)"
   ]
  },
  {
   "cell_type": "markdown",
   "metadata": {},
   "source": [
    "### Key words for filtering scraped data from [Mendeley Database](https://data.mendeley.com/)"
   ]
  },
  {
   "cell_type": "code",
   "execution_count": 4,
   "metadata": {},
   "outputs": [],
   "source": [
    "first_term = [\"sars-cov-2\", \"sars-cov2\", \"covid19\", \"covid-19\", \"sars\", \"coronavirus\", \"ncov2019\", \"ncov-2019\"]\n",
    "second_term = [\"molecular dynamics\", \"trajectories\", \"dynamics simulation\", \"trajectory\", \"molecular docking\"]"
   ]
  },
  {
   "cell_type": "markdown",
   "metadata": {},
   "source": [
    "### Key words for filtering scraped data from [Figshare](https://figshare.com/)"
   ]
  },
  {
   "cell_type": "code",
   "execution_count": 5,
   "metadata": {},
   "outputs": [],
   "source": [
    "# Search from \"description\" \n",
    "first_term = [\"sars-cov-2\"] \n",
    "# AND from \"keyword\" \n",
    "second_term = [\"molecular dynamics\"]"
   ]
  },
  {
   "cell_type": "markdown",
   "metadata": {},
   "source": [
    "## Dummy data for testing the filtering"
   ]
  },
  {
   "cell_type": "code",
   "execution_count": 6,
   "metadata": {},
   "outputs": [
    {
     "data": {
      "text/html": [
       "<div>\n",
       "<style scoped>\n",
       "    .dataframe tbody tr th:only-of-type {\n",
       "        vertical-align: middle;\n",
       "    }\n",
       "\n",
       "    .dataframe tbody tr th {\n",
       "        vertical-align: top;\n",
       "    }\n",
       "\n",
       "    .dataframe thead th {\n",
       "        text-align: right;\n",
       "    }\n",
       "</style>\n",
       "<table border=\"1\" class=\"dataframe\">\n",
       "  <thead>\n",
       "    <tr style=\"text-align: right;\">\n",
       "      <th></th>\n",
       "      <th>col_1</th>\n",
       "      <th>col_2</th>\n",
       "    </tr>\n",
       "  </thead>\n",
       "  <tbody>\n",
       "    <tr>\n",
       "      <th>0</th>\n",
       "      <td>Helicase</td>\n",
       "      <td>a</td>\n",
       "    </tr>\n",
       "    <tr>\n",
       "      <th>1</th>\n",
       "      <td>sars-cov-2</td>\n",
       "      <td>This is a Protein 8 pdf abstract</td>\n",
       "    </tr>\n",
       "    <tr>\n",
       "      <th>2</th>\n",
       "      <td>https://figshare.com/articles/nsp10/12162405</td>\n",
       "      <td>molecular dynamics</td>\n",
       "    </tr>\n",
       "    <tr>\n",
       "      <th>3</th>\n",
       "      <td>sars-cov-2</td>\n",
       "      <td>molecular dynamics</td>\n",
       "    </tr>\n",
       "  </tbody>\n",
       "</table>\n",
       "</div>"
      ],
      "text/plain": [
       "                                          col_1  \\\n",
       "0                                      Helicase   \n",
       "1                                    sars-cov-2   \n",
       "2  https://figshare.com/articles/nsp10/12162405   \n",
       "3                                    sars-cov-2   \n",
       "\n",
       "                              col_2  \n",
       "0                                 a  \n",
       "1  This is a Protein 8 pdf abstract  \n",
       "2                molecular dynamics  \n",
       "3                molecular dynamics  "
      ]
     },
     "execution_count": 6,
     "metadata": {},
     "output_type": "execute_result"
    }
   ],
   "source": [
    "data = {'col_1': [\"Helicase\", \"sars-cov-2\", \"https://figshare.com/articles/nsp10/12162405\", \"sars-cov-2\"], \n",
    "        'col_2': ['a', 'This is a Protein 8 pdf abstract', 'molecular dynamics', 'molecular dynamics']}\n",
    "df = pd.DataFrame.from_dict(data)\n",
    "df"
   ]
  },
  {
   "cell_type": "markdown",
   "metadata": {},
   "source": [
    "## Initialise a boolen pd.Series\n",
    "The purpose of pd.Series name `found` is to hold a boolen index rows with matches (if a certain keyword is found in the particular entry)."
   ]
  },
  {
   "cell_type": "code",
   "execution_count": 7,
   "metadata": {},
   "outputs": [],
   "source": [
    "search_column = \"col_1\"\n",
    "falses = np.zeros(len(df[search_column]), dtype=bool) # https://stackoverflow.com/a/21174962\n",
    "found1 = pd.Series(data = falses,\n",
    "                   dtype = bool)\n",
    "found2 = pd.Series(data = falses,\n",
    "                   dtype = bool)"
   ]
  },
  {
   "cell_type": "markdown",
   "metadata": {},
   "source": [
    "## Find all indexes with a match"
   ]
  },
  {
   "cell_type": "markdown",
   "metadata": {},
   "source": [
    "### Find matches in the first column"
   ]
  },
  {
   "cell_type": "code",
   "execution_count": 8,
   "metadata": {},
   "outputs": [],
   "source": [
    "first_column_to_search_in = \"col_1\"\n",
    "for word in first_term:\n",
    "    # Find out if the current search term can be found in the column\n",
    "    cur_match = df[first_column_to_search_in].str.contains(word) # https://stackoverflow.com/a/15333283\n",
    "    # Join the found matches to one Series\n",
    "    found1 = found1 | cur_match\n"
   ]
  },
  {
   "cell_type": "code",
   "execution_count": 9,
   "metadata": {},
   "outputs": [
    {
     "data": {
      "text/plain": [
       "0    False\n",
       "1     True\n",
       "2    False\n",
       "3     True\n",
       "dtype: bool"
      ]
     },
     "execution_count": 9,
     "metadata": {},
     "output_type": "execute_result"
    }
   ],
   "source": [
    "found1"
   ]
  },
  {
   "cell_type": "markdown",
   "metadata": {},
   "source": [
    "### Find matches in the second column"
   ]
  },
  {
   "cell_type": "code",
   "execution_count": 10,
   "metadata": {},
   "outputs": [],
   "source": [
    "second_column_to_search_in = \"col_2\"\n",
    "for word in second_term:\n",
    "    # Find out if the current search term can be found in the column\n",
    "    cur_match = df[second_column_to_search_in].str.contains(word) # https://stackoverflow.com/a/15333283\n",
    "    # Join the found matches to one Series\n",
    "    found2 = found2 | cur_match"
   ]
  },
  {
   "cell_type": "code",
   "execution_count": 11,
   "metadata": {},
   "outputs": [
    {
     "data": {
      "text/plain": [
       "0    False\n",
       "1    False\n",
       "2     True\n",
       "3     True\n",
       "dtype: bool"
      ]
     },
     "execution_count": 11,
     "metadata": {},
     "output_type": "execute_result"
    }
   ],
   "source": [
    "found2"
   ]
  },
  {
   "cell_type": "markdown",
   "metadata": {},
   "source": [
    "### Join the matches from both columns"
   ]
  },
  {
   "cell_type": "code",
   "execution_count": 12,
   "metadata": {},
   "outputs": [
    {
     "data": {
      "text/plain": [
       "0    False\n",
       "1    False\n",
       "2    False\n",
       "3     True\n",
       "dtype: bool"
      ]
     },
     "execution_count": 12,
     "metadata": {},
     "output_type": "execute_result"
    }
   ],
   "source": [
    "joined = found1 & found2\n",
    "joined"
   ]
  },
  {
   "cell_type": "markdown",
   "metadata": {},
   "source": [
    "## Select only rows with matches in both columns"
   ]
  },
  {
   "cell_type": "code",
   "execution_count": 13,
   "metadata": {},
   "outputs": [
    {
     "data": {
      "text/html": [
       "<div>\n",
       "<style scoped>\n",
       "    .dataframe tbody tr th:only-of-type {\n",
       "        vertical-align: middle;\n",
       "    }\n",
       "\n",
       "    .dataframe tbody tr th {\n",
       "        vertical-align: top;\n",
       "    }\n",
       "\n",
       "    .dataframe thead th {\n",
       "        text-align: right;\n",
       "    }\n",
       "</style>\n",
       "<table border=\"1\" class=\"dataframe\">\n",
       "  <thead>\n",
       "    <tr style=\"text-align: right;\">\n",
       "      <th></th>\n",
       "      <th>col_1</th>\n",
       "      <th>col_2</th>\n",
       "    </tr>\n",
       "  </thead>\n",
       "  <tbody>\n",
       "    <tr>\n",
       "      <th>3</th>\n",
       "      <td>sars-cov-2</td>\n",
       "      <td>molecular dynamics</td>\n",
       "    </tr>\n",
       "  </tbody>\n",
       "</table>\n",
       "</div>"
      ],
      "text/plain": [
       "        col_1               col_2\n",
       "3  sars-cov-2  molecular dynamics"
      ]
     },
     "execution_count": 13,
     "metadata": {},
     "output_type": "execute_result"
    }
   ],
   "source": [
    "df[joined]"
   ]
  },
  {
   "cell_type": "code",
   "execution_count": null,
   "metadata": {},
   "outputs": [],
   "source": []
  }
 ],
 "metadata": {
  "kernelspec": {
   "display_name": "Python 3",
   "language": "python",
   "name": "python3"
  },
  "language_info": {
   "codemirror_mode": {
    "name": "ipython",
    "version": 3
   },
   "file_extension": ".py",
   "mimetype": "text/x-python",
   "name": "python",
   "nbconvert_exporter": "python",
   "pygments_lexer": "ipython3",
   "version": "3.7.6"
  }
 },
 "nbformat": 4,
 "nbformat_minor": 4
}
